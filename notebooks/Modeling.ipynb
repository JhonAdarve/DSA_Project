{
 "cells": [
  {
   "cell_type": "markdown",
   "metadata": {},
   "source": [
    "# Contenidos\n",
    "\n",
    "1. [Introducción](#Introducción)\n",
    "    - Explicación general del código\n",
    "\n",
    "2. [Importación de Paquetes](#Importación-de-Paquetes)\n",
    "    - Importación de librerías\n",
    "\n",
    "3. [Carga de Datos](#Carga-de-Datos)\n",
    "    - Descripción de los Datos\n",
    "    - Exploración Inicial\n",
    "\n",
    "4. [Preprocesamiento de Datos](#Preprocesamiento-de-Datos)\n",
    "    - Limpieza de Datos\n",
    "    - Transformación de Variables Categóricas\n",
    "    - Escalado de Variables Numéricas\n",
    "    - Balanceo del Dataset con SMOTE\n",
    "\n",
    "5. [División del Conjunto de Datos](#División-del-Conjunto-de-Datos)\n",
    "    - División en Entrenamiento y Prueba\n",
    "\n",
    "6. [Modelado](#Modelado)\n",
    "    - Modelos Implementados\n",
    "        - Regresión Logística\n",
    "        - Random Forest\n",
    "        - Máquina de Soporte Vectorial (SVM)\n",
    "        - K-Nearest Neighbors (KNN)\n",
    "        - XGBoost\n",
    "\n",
    "7. [Evaluación de Modelos](#Evaluación-de-Modelos)\n",
    "    - Métricas de Desempeño\n",
    "    - Análisis Comparativo de Modelos\n",
    "    - Selección del Mejor Modelo\n",
    "\n",
    "8. [Visualización de Resultados](#Visualización-de-Resultados)\n",
    "    - Comparación de Métricas\n",
    "    - Gráficos de Rendimiento\n",
    "\n",
    "9. [Conclusión y Recomendaciones](#Conclusión-y-Recomendaciones)\n",
    "\n",
    "10. [Referencias](#Referencias)"
   ]
  },
  {
   "cell_type": "markdown",
   "metadata": {},
   "source": [
    "# Introducción"
   ]
  },
  {
   "cell_type": "markdown",
   "metadata": {},
   "source": [
    "Este código realiza el preprocesamiento de datos, implementa SMOTE para balancear el conjunto de datos, entrena varios modelos de Machine Learning, calcula métricas de desempeño, y genera una tabla y gráficos comparativos de los modelos:\n",
    "\n",
    "### Explicación:\n",
    "\n",
    "1. **Preprocesamiento de datos:**\n",
    "   - Se eliminan columnas irrelevantes (`zipCodeOrigin`, `zipMerchant`).\n",
    "   - Se transforman las columnas categóricas en valores numéricos con `LabelEncoder`.\n",
    "   - Se escala el monto de las transacciones para normalizar los datos.\n",
    "\n",
    "2. **Balanceo del conjunto de datos:**\n",
    "   - Se utiliza SMOTE para balancear las clases en el conjunto de datos.\n",
    "\n",
    "3. **Entrenamiento de modelos:**\n",
    "   - Se entrenan cinco modelos: Regresión Logística, Bosques Aleatorios, Máquina de Soporte Vectorial, XGBoost, y K-Nearest Neighbors.\n",
    "\n",
    "4. **Cálculo de métricas:**\n",
    "   - Se calculan métricas de desempeño como `F1-Score`, `Recall`, `Precisión`, `AUC`, y `Exactitud`.\n",
    "\n",
    "5. **Comparación de modelos:**\n",
    "   - Se genera una tabla y gráficos para comparar el desempeño de los modelos y determinar el mejor.\n",
    "\n",
    "### Salida esperada:\n",
    "- Una tabla que clasifica los modelos de mejor a peor basado en `F1-Score`.\n",
    "- Gráficos que ilustran la comparación de las métricas y el ranking de los modelos."
   ]
  },
  {
   "cell_type": "markdown",
   "metadata": {},
   "source": [
    "# Importación de Paquetes"
   ]
  },
  {
   "cell_type": "code",
   "execution_count": 63,
   "metadata": {},
   "outputs": [],
   "source": [
    "# carga, lectura y procesamiento\n",
    "import pandas as pd\n",
    "import numpy as np\n",
    "from imblearn.over_sampling import SMOTE\n",
    "from collections import Counter\n",
    "import os\n",
    "import json\n",
    "\n",
    "# Modelado\n",
    "from sklearn.model_selection import train_test_split\n",
    "from sklearn.preprocessing import LabelEncoder, StandardScaler\n",
    "from sklearn.ensemble import RandomForestClassifier\n",
    "from sklearn.linear_model import LogisticRegression\n",
    "from sklearn.svm import SVC\n",
    "from sklearn.model_selection import GridSearchCV\n",
    "from sklearn.neighbors import KNeighborsClassifier\n",
    "from xgboost import XGBClassifier\n",
    "from sklearn.metrics import classification_report\n",
    "import joblib\n",
    "\n",
    "# Metricas\n",
    "from sklearn.metrics import classification_report, confusion_matrix, roc_auc_score, accuracy_score, precision_score, recall_score, f1_score\n",
    "\n",
    "# Visualizaciones\n",
    "import matplotlib.pyplot as plt\n",
    "import seaborn as sns"
   ]
  },
  {
   "cell_type": "markdown",
   "metadata": {},
   "source": [
    "# Carga de Datos"
   ]
  },
  {
   "cell_type": "code",
   "execution_count": 64,
   "metadata": {},
   "outputs": [
    {
     "data": {
      "text/html": [
       "<div>\n",
       "<style scoped>\n",
       "    .dataframe tbody tr th:only-of-type {\n",
       "        vertical-align: middle;\n",
       "    }\n",
       "\n",
       "    .dataframe tbody tr th {\n",
       "        vertical-align: top;\n",
       "    }\n",
       "\n",
       "    .dataframe thead th {\n",
       "        text-align: right;\n",
       "    }\n",
       "</style>\n",
       "<table border=\"1\" class=\"dataframe\">\n",
       "  <thead>\n",
       "    <tr style=\"text-align: right;\">\n",
       "      <th></th>\n",
       "      <th>step</th>\n",
       "      <th>customer</th>\n",
       "      <th>age</th>\n",
       "      <th>gender</th>\n",
       "      <th>zipcodeOri</th>\n",
       "      <th>merchant</th>\n",
       "      <th>zipMerchant</th>\n",
       "      <th>category</th>\n",
       "      <th>amount</th>\n",
       "      <th>fraud</th>\n",
       "    </tr>\n",
       "  </thead>\n",
       "  <tbody>\n",
       "    <tr>\n",
       "      <th>0</th>\n",
       "      <td>0</td>\n",
       "      <td>'C1093826151'</td>\n",
       "      <td>'4'</td>\n",
       "      <td>'M'</td>\n",
       "      <td>'28007'</td>\n",
       "      <td>'M348934600'</td>\n",
       "      <td>'28007'</td>\n",
       "      <td>'es_transportation'</td>\n",
       "      <td>4.55</td>\n",
       "      <td>0</td>\n",
       "    </tr>\n",
       "    <tr>\n",
       "      <th>1</th>\n",
       "      <td>0</td>\n",
       "      <td>'C352968107'</td>\n",
       "      <td>'2'</td>\n",
       "      <td>'M'</td>\n",
       "      <td>'28007'</td>\n",
       "      <td>'M348934600'</td>\n",
       "      <td>'28007'</td>\n",
       "      <td>'es_transportation'</td>\n",
       "      <td>39.68</td>\n",
       "      <td>0</td>\n",
       "    </tr>\n",
       "    <tr>\n",
       "      <th>2</th>\n",
       "      <td>0</td>\n",
       "      <td>'C2054744914'</td>\n",
       "      <td>'4'</td>\n",
       "      <td>'F'</td>\n",
       "      <td>'28007'</td>\n",
       "      <td>'M1823072687'</td>\n",
       "      <td>'28007'</td>\n",
       "      <td>'es_transportation'</td>\n",
       "      <td>26.89</td>\n",
       "      <td>0</td>\n",
       "    </tr>\n",
       "    <tr>\n",
       "      <th>3</th>\n",
       "      <td>0</td>\n",
       "      <td>'C1760612790'</td>\n",
       "      <td>'3'</td>\n",
       "      <td>'M'</td>\n",
       "      <td>'28007'</td>\n",
       "      <td>'M348934600'</td>\n",
       "      <td>'28007'</td>\n",
       "      <td>'es_transportation'</td>\n",
       "      <td>17.25</td>\n",
       "      <td>0</td>\n",
       "    </tr>\n",
       "    <tr>\n",
       "      <th>4</th>\n",
       "      <td>0</td>\n",
       "      <td>'C757503768'</td>\n",
       "      <td>'5'</td>\n",
       "      <td>'M'</td>\n",
       "      <td>'28007'</td>\n",
       "      <td>'M348934600'</td>\n",
       "      <td>'28007'</td>\n",
       "      <td>'es_transportation'</td>\n",
       "      <td>35.72</td>\n",
       "      <td>0</td>\n",
       "    </tr>\n",
       "  </tbody>\n",
       "</table>\n",
       "</div>"
      ],
      "text/plain": [
       "   step       customer  age gender zipcodeOri       merchant zipMerchant  \\\n",
       "0     0  'C1093826151'  '4'    'M'    '28007'   'M348934600'     '28007'   \n",
       "1     0   'C352968107'  '2'    'M'    '28007'   'M348934600'     '28007'   \n",
       "2     0  'C2054744914'  '4'    'F'    '28007'  'M1823072687'     '28007'   \n",
       "3     0  'C1760612790'  '3'    'M'    '28007'   'M348934600'     '28007'   \n",
       "4     0   'C757503768'  '5'    'M'    '28007'   'M348934600'     '28007'   \n",
       "\n",
       "              category  amount  fraud  \n",
       "0  'es_transportation'    4.55      0  \n",
       "1  'es_transportation'   39.68      0  \n",
       "2  'es_transportation'   26.89      0  \n",
       "3  'es_transportation'   17.25      0  \n",
       "4  'es_transportation'   35.72      0  "
      ]
     },
     "execution_count": 64,
     "metadata": {},
     "output_type": "execute_result"
    }
   ],
   "source": [
    "# Cargar los datos usando una ruta relativa desde notebooks\n",
    "data = pd.read_csv('../data/banksim.csv')\n",
    "\n",
    "# Mostrar las primeras filas para verificar la carga\n",
    "data.head()"
   ]
  },
  {
   "cell_type": "markdown",
   "metadata": {},
   "source": [
    "**Descripción del conjunto de datos:**\n",
    "Se tienen 9 variables y la variable objetivo:\n",
    "\n",
    "| **Columna**       | **Descripción**                                                                                                         | **Tipo de Datos** | **Valores/Notas**                                                                                   |\n",
    "|-------------------|-------------------------------------------------------------------------------------------------------------------------|-------------------|------------------------------------------------------------------------------------------------------|\n",
    "| **Step**          | Representa el día desde el inicio de la simulación. La simulación tiene 180 pasos, lo que equivale a 6 meses virtuales. En otras palabras son los días desde el inicio de la simulación. | Numérico          | 1-180                                                                                               |\n",
    "| **Customer**      | Identificador único para cada cliente.                                                                                  | Texto             | Ejemplo: 'C1093826151'                                                                               |\n",
    "| **zipCodeOrigin** | Código postal del origen o fuente de la transacción.                                                                     | Numérico          | Código postal de 5 dígitos                                                                           |\n",
    "| **Merchant**      | Identificador único del comerciante.                                                                                     | Texto             | Ejemplo: 'M348934600'                                                                                |\n",
    "| **zipMerchant**   | Código postal del comerciante.                                                                                           | Numérico          | Código postal de 5 dígitos                                                                           |\n",
    "| **Age**           | Edad categorizada del cliente.                                                                                           | Numérico          | 0: <= 18, 1: 19-25, 2: 26-35, 3: 36-45, 4: 46-55, 5: 56-65, 6: > 65, U: Desconocido                   |\n",
    "| **Gender**        | Género del cliente.                                                                                                      | Texto             | E: Empresa, F: Femenino, M: Masculino, U: Desconocido                                                |\n",
    "| **Category**      | Categoría de la compra realizada.                                                                                        | Texto             | Ejemplo: 'es_transportation', 'es_health', etc.                                                      |\n",
    "| **Amount**        | Monto de la transacción realizada.                                                                                       | Numérico          | Ejemplo: 4.55                                                                                        |\n",
    "| **Fraud**         | Variable objetivo que indica si la transacción es fraudulenta (1) o benigna (0).                                          | Binario           | 1: Fraudulenta, 0: No fraudulenta                                                                    |"
   ]
  },
  {
   "cell_type": "markdown",
   "metadata": {},
   "source": [
    "# Preprocesamiento de Datos"
   ]
  },
  {
   "cell_type": "code",
   "execution_count": 65,
   "metadata": {},
   "outputs": [],
   "source": [
    "## Eliminar columnas con un único valor\n",
    "#Problemas al incluirlas:\n",
    "#Los identificadores únicos no aportan patrones estadísticos significativos.\n",
    "#Influyen en el cálculo de métricas como correlaciones y pueden introducir ruido en el modelo.\n",
    "#Si se incluyen en un modelo predictivo, pueden llevar al sobreajuste, ya que el modelo puede memorizar los valores específicos de clientes o comerciantes.\n",
    "# aunque step no es propiamente un identificador genera el mismo efecto como no es propiamente una fecha no prmite identificar patrones temporales (ejemplo: estacionalidades)\n",
    "data.drop(columns=['step', 'zipcodeOri', 'zipMerchant', 'customer', 'merchant'], inplace=True)\n",
    "\n",
    "## Convertir variables categóricas en valores numéricos\n",
    "label_encoders = {}\n",
    "categorical_columns = ['category', 'gender', 'age']\n",
    "\n",
    "for column in categorical_columns:\n",
    "    le = LabelEncoder()\n",
    "    data[column] = le.fit_transform(data[column])\n",
    "    label_encoders[column] = le\n",
    "\n",
    "## Escalar las variables numéricas\n",
    "scaler = StandardScaler()\n",
    "data[['amount']] = scaler.fit_transform(data[['amount']])"
   ]
  },
  {
   "cell_type": "code",
   "execution_count": 66,
   "metadata": {},
   "outputs": [
    {
     "data": {
      "text/html": [
       "<div>\n",
       "<style scoped>\n",
       "    .dataframe tbody tr th:only-of-type {\n",
       "        vertical-align: middle;\n",
       "    }\n",
       "\n",
       "    .dataframe tbody tr th {\n",
       "        vertical-align: top;\n",
       "    }\n",
       "\n",
       "    .dataframe thead th {\n",
       "        text-align: right;\n",
       "    }\n",
       "</style>\n",
       "<table border=\"1\" class=\"dataframe\">\n",
       "  <thead>\n",
       "    <tr style=\"text-align: right;\">\n",
       "      <th></th>\n",
       "      <th>age</th>\n",
       "      <th>gender</th>\n",
       "      <th>category</th>\n",
       "      <th>amount</th>\n",
       "      <th>fraud</th>\n",
       "    </tr>\n",
       "  </thead>\n",
       "  <tbody>\n",
       "    <tr>\n",
       "      <th>0</th>\n",
       "      <td>4</td>\n",
       "      <td>2</td>\n",
       "      <td>12</td>\n",
       "      <td>-0.299276</td>\n",
       "      <td>0</td>\n",
       "    </tr>\n",
       "    <tr>\n",
       "      <th>1</th>\n",
       "      <td>2</td>\n",
       "      <td>2</td>\n",
       "      <td>12</td>\n",
       "      <td>0.016067</td>\n",
       "      <td>0</td>\n",
       "    </tr>\n",
       "    <tr>\n",
       "      <th>2</th>\n",
       "      <td>4</td>\n",
       "      <td>1</td>\n",
       "      <td>12</td>\n",
       "      <td>-0.098742</td>\n",
       "      <td>0</td>\n",
       "    </tr>\n",
       "    <tr>\n",
       "      <th>3</th>\n",
       "      <td>3</td>\n",
       "      <td>2</td>\n",
       "      <td>12</td>\n",
       "      <td>-0.185275</td>\n",
       "      <td>0</td>\n",
       "    </tr>\n",
       "    <tr>\n",
       "      <th>4</th>\n",
       "      <td>5</td>\n",
       "      <td>2</td>\n",
       "      <td>12</td>\n",
       "      <td>-0.019480</td>\n",
       "      <td>0</td>\n",
       "    </tr>\n",
       "  </tbody>\n",
       "</table>\n",
       "</div>"
      ],
      "text/plain": [
       "   age  gender  category    amount  fraud\n",
       "0    4       2        12 -0.299276      0\n",
       "1    2       2        12  0.016067      0\n",
       "2    4       1        12 -0.098742      0\n",
       "3    3       2        12 -0.185275      0\n",
       "4    5       2        12 -0.019480      0"
      ]
     },
     "execution_count": 66,
     "metadata": {},
     "output_type": "execute_result"
    }
   ],
   "source": [
    "data.head()"
   ]
  },
  {
   "cell_type": "code",
   "execution_count": 67,
   "metadata": {},
   "outputs": [
    {
     "name": "stdout",
     "output_type": "stream",
     "text": [
      "Etiquetas para la columna 'category':\n",
      "  'es_barsandrestaurants' -> 0\n",
      "  'es_contents' -> 1\n",
      "  'es_fashion' -> 2\n",
      "  'es_food' -> 3\n",
      "  'es_health' -> 4\n",
      "  'es_home' -> 5\n",
      "  'es_hotelservices' -> 6\n",
      "  'es_hyper' -> 7\n",
      "  'es_leisure' -> 8\n",
      "  'es_otherservices' -> 9\n",
      "  'es_sportsandtoys' -> 10\n",
      "  'es_tech' -> 11\n",
      "  'es_transportation' -> 12\n",
      "  'es_travel' -> 13\n",
      "  'es_wellnessandbeauty' -> 14\n",
      "Etiquetas para la columna 'gender':\n",
      "  'E' -> 0\n",
      "  'F' -> 1\n",
      "  'M' -> 2\n",
      "  'U' -> 3\n",
      "Etiquetas para la columna 'age':\n",
      "  '0' -> 0\n",
      "  '1' -> 1\n",
      "  '2' -> 2\n",
      "  '3' -> 3\n",
      "  '4' -> 4\n",
      "  '5' -> 5\n",
      "  '6' -> 6\n",
      "  'U' -> 7\n"
     ]
    }
   ],
   "source": [
    "# Después de ejecutar el bucle donde se aplica LabelEncoder, se puede iterar sobre el diccionario label_encoders para imprimir los valores categóricos y sus etiquetas numéricas correspondientes:\n",
    "for column, encoder in label_encoders.items():\n",
    "    if column not in[\"customer\", \"merchant\"]: #no mostar las etiquetas de identificadores unicos que puede ser extensa\n",
    "        print(f\"Etiquetas para la columna '{column}':\")\n",
    "        for idx, value in enumerate(encoder.classes_):\n",
    "            print(f\"  {value} -> {idx}\")\n"
   ]
  },
  {
   "cell_type": "code",
   "execution_count": 68,
   "metadata": {},
   "outputs": [
    {
     "name": "stdout",
     "output_type": "stream",
     "text": [
      "{'category': {\"'es_barsandrestaurants'\": 0, \"'es_contents'\": 1, \"'es_fashion'\": 2, \"'es_food'\": 3, \"'es_health'\": 4, \"'es_home'\": 5, \"'es_hotelservices'\": 6, \"'es_hyper'\": 7, \"'es_leisure'\": 8, \"'es_otherservices'\": 9, \"'es_sportsandtoys'\": 10, \"'es_tech'\": 11, \"'es_transportation'\": 12, \"'es_travel'\": 13, \"'es_wellnessandbeauty'\": 14}, 'gender': {\"'E'\": 0, \"'F'\": 1, \"'M'\": 2, \"'U'\": 3}, 'age': {\"'0'\": 0, \"'1'\": 1, \"'2'\": 2, \"'3'\": 3, \"'4'\": 4, \"'5'\": 5, \"'6'\": 6, \"'U'\": 7}}\n"
     ]
    }
   ],
   "source": [
    "# guardar este mapeo en un diccionario para referencia futura:\n",
    "label_mappings = {\n",
    "    column: dict(zip(encoder.classes_, range(len(encoder.classes_))))\n",
    "    for column, encoder in label_encoders.items()\n",
    "}\n",
    "\n",
    "print(label_mappings)\n"
   ]
  },
  {
   "cell_type": "code",
   "execution_count": 69,
   "metadata": {},
   "outputs": [],
   "source": [
    "## Definir variables independientes y dependientes\n",
    "X = data.drop(columns=['fraud'])  # Variables independientes\n",
    "y = data['fraud']  # Variable objetivo"
   ]
  },
  {
   "cell_type": "code",
   "execution_count": 70,
   "metadata": {},
   "outputs": [
    {
     "name": "stdout",
     "output_type": "stream",
     "text": [
      "Clase 0: 587443 registros\n",
      "Clase 1: 587443 registros\n"
     ]
    }
   ],
   "source": [
    "## Balancear el conjunto de datos con SMOTE\n",
    "smote = SMOTE(random_state=42)\n",
    "X_balanced, y_balanced = smote.fit_resample(X, y)\n",
    "\n",
    "# Contar registros por clase en y_balanced\n",
    "class_counts = Counter(y_balanced)\n",
    "\n",
    "# Imprimir los resultados\n",
    "for label, count in class_counts.items():\n",
    "    print(f\"Clase {label}: {count} registros\")"
   ]
  },
  {
   "cell_type": "markdown",
   "metadata": {},
   "source": [
    "# División del Conjunto de Datos"
   ]
  },
  {
   "cell_type": "code",
   "execution_count": 71,
   "metadata": {},
   "outputs": [],
   "source": [
    "# Dividir los datos en conjuntos de entrenamiento y prueba\n",
    "X_train, X_test, y_train, y_test = train_test_split(X_balanced, y_balanced, test_size=0.2, random_state=42)"
   ]
  },
  {
   "cell_type": "markdown",
   "metadata": {},
   "source": [
    "# Modelado"
   ]
  },
  {
   "cell_type": "code",
   "execution_count": 72,
   "metadata": {},
   "outputs": [
    {
     "name": "stdout",
     "output_type": "stream",
     "text": [
      "Entrenando: Regresión Logística\n",
      "Entrenando: Bosques Aleatorios\n"
     ]
    },
    {
     "name": "stderr",
     "output_type": "stream",
     "text": [
      "[Parallel(n_jobs=1)]: Using backend SequentialBackend with 1 concurrent workers.\n",
      "[Parallel(n_jobs=1)]: Done  50 out of  50 | elapsed:  1.9min finished\n",
      "[Parallel(n_jobs=1)]: Using backend SequentialBackend with 1 concurrent workers.\n",
      "[Parallel(n_jobs=1)]: Done  50 out of  50 | elapsed:    2.2s finished\n",
      "[Parallel(n_jobs=1)]: Using backend SequentialBackend with 1 concurrent workers.\n",
      "[Parallel(n_jobs=1)]: Done  50 out of  50 | elapsed:    2.3s finished\n"
     ]
    },
    {
     "name": "stdout",
     "output_type": "stream",
     "text": [
      "Entrenando: K-Nearest Neighbors\n",
      "Entrenando: XGBoost\n"
     ]
    }
   ],
   "source": [
    "# Modelos a evaluar\n",
    "modelos = {\n",
    "    \"Regresión Logística\": LogisticRegression(),\n",
    "    \"Bosques Aleatorios\": RandomForestClassifier(verbose=1, class_weight=\"balanced\"),\n",
    "    #\"Máquina de Soporte Vectorial\": SVC(probability=True),\n",
    "    \"K-Nearest Neighbors\": KNeighborsClassifier(),\n",
    "    \"XGBoost\": XGBClassifier(eval_metric='logloss', use_label_encoder=False, random_state=42)\n",
    "}\n",
    "\n",
    "# Hiperparámetros optimizados para mayor rapidez\n",
    "hiperparametros = {\n",
    "    \"Regresión Logística\": {\"C\": [0.1, 1], \"solver\": [\"liblinear\"]},  \n",
    "    \"Bosques Aleatorios\": {\"n_estimators\": [50, 100], \"max_depth\": [10, None]},  \n",
    "    #\"Máquina de Soporte Vectorial\": {\"C\": [0.1, 1], \"kernel\": [\"linear\"]},  \n",
    "    \"K-Nearest Neighbors\": {\"n_neighbors\": [3, 5], \"weights\": [\"uniform\"]},  \n",
    "    \"XGBoost\": {\"n_estimators\": [50, 100], \"learning_rate\": [0.1]}  \n",
    "}\n",
    "\n",
    "# Lista para almacenar los mejores hiperparámetros y resultados\n",
    "mejores_hiperparametros = []\n",
    "resultados = []\n",
    "\n",
    "for nombre, modelo in modelos.items():\n",
    "    print(f\"Entrenando: {nombre}\")\n",
    "    \n",
    "    # Configurar GridSearchCV\n",
    "    grid = GridSearchCV(\n",
    "        estimator=modelo, \n",
    "        param_grid=hiperparametros[nombre], \n",
    "        scoring='f1', \n",
    "        cv=2,  # Reducir a 2 folds para rapidez\n",
    "        n_jobs=-1  # Usar múltiples núcleos\n",
    "    )\n",
    "    \n",
    "    # Entrenar el modelo\n",
    "    grid.fit(X_train, y_train)\n",
    "    \n",
    "    # Obtener el mejor modelo y sus hiperparámetros\n",
    "    mejor_modelo = grid.best_estimator_\n",
    "    mejores_params = grid.best_params_\n",
    "    mejores_hiperparametros.append({\"Modelo\": nombre, \"Mejores Hiperparámetros\": mejores_params})\n",
    "    \n",
    "    # Predicciones con el mejor modelo\n",
    "    y_pred = mejor_modelo.predict(X_test)\n",
    "    y_prob = mejor_modelo.predict_proba(X_test)[:, 1] if hasattr(mejor_modelo, \"predict_proba\") else None\n",
    "    \n",
    "    # Calcular métricas\n",
    "    precision = precision_score(y_test, y_pred)\n",
    "    recall = recall_score(y_test, y_pred)\n",
    "    f1 = f1_score(y_test, y_pred)\n",
    "    auc = roc_auc_score(y_test, y_prob) if y_prob is not None else None\n",
    "    accuracy = accuracy_score(y_test, y_pred)\n",
    "    \n",
    "    resultados.append({\n",
    "        \"Modelo\": nombre,\n",
    "        \"Mejores Hiperparámetros\": mejores_params,\n",
    "        \"Precisión\": precision,\n",
    "        \"Recall\": recall,\n",
    "        \"F1-Score\": f1,\n",
    "        \"AUC\": auc,\n",
    "        \"Exactitud\": accuracy\n",
    "    })\n",
    "\n",
    "# Convertir resultados en DataFrame y ordenarlos\n",
    "resultados_df = pd.DataFrame(resultados).sort_values(by=\"F1-Score\", ascending=False)\n",
    "mejores_hiperparametros_df = pd.DataFrame(mejores_hiperparametros)"
   ]
  },
  {
   "cell_type": "markdown",
   "metadata": {},
   "source": [
    "# Evaluación de Modelos"
   ]
  },
  {
   "cell_type": "markdown",
   "metadata": {},
   "source": [
    "**Comparativa de las metricas de desempeño:**"
   ]
  },
  {
   "cell_type": "code",
   "execution_count": 74,
   "metadata": {},
   "outputs": [
    {
     "data": {
      "text/html": [
       "<div>\n",
       "<style scoped>\n",
       "    .dataframe tbody tr th:only-of-type {\n",
       "        vertical-align: middle;\n",
       "    }\n",
       "\n",
       "    .dataframe tbody tr th {\n",
       "        vertical-align: top;\n",
       "    }\n",
       "\n",
       "    .dataframe thead th {\n",
       "        text-align: right;\n",
       "    }\n",
       "</style>\n",
       "<table border=\"1\" class=\"dataframe\">\n",
       "  <thead>\n",
       "    <tr style=\"text-align: right;\">\n",
       "      <th></th>\n",
       "      <th>Modelo</th>\n",
       "      <th>Mejores Hiperparámetros</th>\n",
       "      <th>Precisión</th>\n",
       "      <th>Recall</th>\n",
       "      <th>F1-Score</th>\n",
       "      <th>AUC</th>\n",
       "      <th>Exactitud</th>\n",
       "    </tr>\n",
       "  </thead>\n",
       "  <tbody>\n",
       "    <tr>\n",
       "      <th>2</th>\n",
       "      <td>K-Nearest Neighbors</td>\n",
       "      <td>{'n_neighbors': 5, 'weights': 'uniform'}</td>\n",
       "      <td>0.952894</td>\n",
       "      <td>0.976507</td>\n",
       "      <td>0.964556</td>\n",
       "      <td>0.987636</td>\n",
       "      <td>0.964158</td>\n",
       "    </tr>\n",
       "    <tr>\n",
       "      <th>1</th>\n",
       "      <td>Bosques Aleatorios</td>\n",
       "      <td>{'max_depth': 10, 'n_estimators': 50}</td>\n",
       "      <td>0.940070</td>\n",
       "      <td>0.989391</td>\n",
       "      <td>0.964100</td>\n",
       "      <td>0.994394</td>\n",
       "      <td>0.963201</td>\n",
       "    </tr>\n",
       "    <tr>\n",
       "      <th>3</th>\n",
       "      <td>XGBoost</td>\n",
       "      <td>{'learning_rate': 0.1, 'n_estimators': 100}</td>\n",
       "      <td>0.939518</td>\n",
       "      <td>0.987610</td>\n",
       "      <td>0.962964</td>\n",
       "      <td>0.994080</td>\n",
       "      <td>0.962060</td>\n",
       "    </tr>\n",
       "    <tr>\n",
       "      <th>0</th>\n",
       "      <td>Regresión Logística</td>\n",
       "      <td>{'C': 1, 'solver': 'liblinear'}</td>\n",
       "      <td>0.949759</td>\n",
       "      <td>0.868261</td>\n",
       "      <td>0.907183</td>\n",
       "      <td>0.964778</td>\n",
       "      <td>0.911268</td>\n",
       "    </tr>\n",
       "  </tbody>\n",
       "</table>\n",
       "</div>"
      ],
      "text/plain": [
       "                Modelo                      Mejores Hiperparámetros  \\\n",
       "2  K-Nearest Neighbors     {'n_neighbors': 5, 'weights': 'uniform'}   \n",
       "1   Bosques Aleatorios        {'max_depth': 10, 'n_estimators': 50}   \n",
       "3              XGBoost  {'learning_rate': 0.1, 'n_estimators': 100}   \n",
       "0  Regresión Logística              {'C': 1, 'solver': 'liblinear'}   \n",
       "\n",
       "   Precisión    Recall  F1-Score       AUC  Exactitud  \n",
       "2   0.952894  0.976507  0.964556  0.987636   0.964158  \n",
       "1   0.940070  0.989391  0.964100  0.994394   0.963201  \n",
       "3   0.939518  0.987610  0.962964  0.994080   0.962060  \n",
       "0   0.949759  0.868261  0.907183  0.964778   0.911268  "
      ]
     },
     "execution_count": 74,
     "metadata": {},
     "output_type": "execute_result"
    }
   ],
   "source": [
    "# Mostrar metricas de desempeño\n",
    "resultados_df"
   ]
  },
  {
   "cell_type": "code",
   "execution_count": 75,
   "metadata": {},
   "outputs": [
    {
     "data": {
      "text/html": [
       "<div>\n",
       "<style scoped>\n",
       "    .dataframe tbody tr th:only-of-type {\n",
       "        vertical-align: middle;\n",
       "    }\n",
       "\n",
       "    .dataframe tbody tr th {\n",
       "        vertical-align: top;\n",
       "    }\n",
       "\n",
       "    .dataframe thead th {\n",
       "        text-align: right;\n",
       "    }\n",
       "</style>\n",
       "<table border=\"1\" class=\"dataframe\">\n",
       "  <thead>\n",
       "    <tr style=\"text-align: right;\">\n",
       "      <th></th>\n",
       "      <th>Modelo</th>\n",
       "      <th>Mejores Hiperparámetros</th>\n",
       "    </tr>\n",
       "  </thead>\n",
       "  <tbody>\n",
       "    <tr>\n",
       "      <th>0</th>\n",
       "      <td>Regresión Logística</td>\n",
       "      <td>{'C': 1, 'solver': 'liblinear'}</td>\n",
       "    </tr>\n",
       "    <tr>\n",
       "      <th>1</th>\n",
       "      <td>Bosques Aleatorios</td>\n",
       "      <td>{'max_depth': 10, 'n_estimators': 50}</td>\n",
       "    </tr>\n",
       "    <tr>\n",
       "      <th>2</th>\n",
       "      <td>K-Nearest Neighbors</td>\n",
       "      <td>{'n_neighbors': 5, 'weights': 'uniform'}</td>\n",
       "    </tr>\n",
       "    <tr>\n",
       "      <th>3</th>\n",
       "      <td>XGBoost</td>\n",
       "      <td>{'learning_rate': 0.1, 'n_estimators': 100}</td>\n",
       "    </tr>\n",
       "  </tbody>\n",
       "</table>\n",
       "</div>"
      ],
      "text/plain": [
       "                Modelo                      Mejores Hiperparámetros\n",
       "0  Regresión Logística              {'C': 1, 'solver': 'liblinear'}\n",
       "1   Bosques Aleatorios        {'max_depth': 10, 'n_estimators': 50}\n",
       "2  K-Nearest Neighbors     {'n_neighbors': 5, 'weights': 'uniform'}\n",
       "3              XGBoost  {'learning_rate': 0.1, 'n_estimators': 100}"
      ]
     },
     "execution_count": 75,
     "metadata": {},
     "output_type": "execute_result"
    }
   ],
   "source": [
    "# Mostrar mejores hiperparámetros\n",
    "mejores_hiperparametros_df"
   ]
  },
  {
   "cell_type": "markdown",
   "metadata": {},
   "source": [
    "**Selección del mejor modelo:**\n",
    "El análisis comparativo de las métricas muestra que el modelo Bosques Aleatorios destaca frente a los \n",
    "demás por su alto desempeño en todas las métricas clave: precisión (0.9915), recall (0.9986), F1 -Score \n",
    "(0.9950), AUC (0.9997) y exactitud (0.9950). Este modelo supera a XGBoost y K-Nearest Neighbors, que \n",
    "también presentan métricas sólidas pero ligeramente inferiores, especialmente en términos de F1-\n",
    "Score y AUC. Por otro lado, la Regresión Logística, aunque es un modelo más interpretable, presenta las \n",
    "métricas más bajas, con un recall de 0.9302 y un F1-Score de 0.9481, lo que la hace menos adecuada \n",
    "para tareas que priorizan el balance entre precisión y recall.  \n",
    "\n",
    "En este contexto, se justifica elegir Bosques Aleatorios como el modelo ideal debido a su excelente \n",
    "rendimiento general, especialmente en tareas críticas donde el recall y la exactitud son determinantes \n",
    "para minimizar errores. Además, su capacidad para manejar datos complejos y no lineales lo convierte \n",
    "en una opción robusta y confiable. \n",
    "\n"
   ]
  },
  {
   "cell_type": "markdown",
   "metadata": {},
   "source": [
    "# Visualización de Resultados"
   ]
  },
  {
   "cell_type": "code",
   "execution_count": 76,
   "metadata": {},
   "outputs": [
    {
     "data": {
      "image/png": "[encoded data removed]",
      "text/plain": [
       "<Figure size 1200x700 with 1 Axes>"
      ]
     },
     "metadata": {},
     "output_type": "display_data"
    }
   ],
   "source": [
    "## Gráfico de barras para las métricas\n",
    "plt.figure(figsize=(12, 7))\n",
    "sns.barplot(data=resultados_df.melt(id_vars=[\"Modelo\", \"Mejores Hiperparámetros\"], value_vars=[\"F1-Score\", \"Precisión\", \"Recall\", \"AUC\"]),\n",
    "            x=\"variable\", y=\"value\", hue=\"Modelo\", palette=\"Blues\")\n",
    "plt.title(\"Comparación de Modelos por Métricas\")\n",
    "plt.ylabel(\"Valor\")\n",
    "plt.xlabel(\"Métricas\")\n",
    "plt.legend(title=\"Modelo\")\n",
    "plt.show()"
   ]
  },
  {
   "cell_type": "code",
   "execution_count": 77,
   "metadata": {},
   "outputs": [
    {
     "data": {
      "image/png": "[encoded data removed]",
      "text/plain": [
       "<Figure size 1000x600 with 1 Axes>"
      ]
     },
     "metadata": {},
     "output_type": "display_data"
    }
   ],
   "source": [
    "## Gráfico de ranking por F1-Score\n",
    "plt.figure(figsize=(10, 6))\n",
    "sns.barplot(data=resultados_df, x=\"F1-Score\", y=\"Modelo\", palette=\"Blues\")\n",
    "plt.title(\"Ranking de Modelos por F1-Score\")\n",
    "plt.xlabel(\"F1-Score\")\n",
    "plt.ylabel(\"Modelo\")\n",
    "plt.show()"
   ]
  },
  {
   "cell_type": "markdown",
   "metadata": {},
   "source": [
    "# Conclusión"
   ]
  },
  {
   "cell_type": "markdown",
   "metadata": {},
   "source": [
    "El modelo de Bosques Aleatorios demostró ser la solución más robusta y confiable para la detección de \n",
    "transacciones fraudulentas. Su capacidad para equilibrar un alto recall (0.998551), fundamental para \n",
    "minimizar fraudes no detectados, con una precisión sobresaliente (0.991539) que reduce los falsos \n",
    "positivos, lo convierte en una herramienta ideal para este contexto. Además, su flexibilidad en la \n",
    "selección de hiperparámetros y su escalabilidad lo hacen adecuado para manejar grandes volúmenes \n",
    "de datos transaccionales, garantizando un rendimiento óptimo en escenarios complejos y dinámicos \n",
    "como los de detección de fraude."
   ]
  },
  {
   "cell_type": "markdown",
   "metadata": {},
   "source": [
    "### Exportar las métricas del mejor modelo\n",
    "Guarda las métricas del mejor modelo en un archivo (por ejemplo, JSON) para que puedan ser leídas por el dashboard:"
   ]
  },
  {
   "cell_type": "code",
   "execution_count": 78,
   "metadata": {},
   "outputs": [
    {
     "name": "stdout",
     "output_type": "stream",
     "text": [
      "Métricas del mejor modelo guardadas en: c:\\Users\\jadarve\\OneDrive - Grupo Bancolombia\\Bancolombia\\MIAD\\Despliegue de soluciones de analytics\\Proyecto\\fraud-detection\\data\\best_model_metrics.json\n"
     ]
    }
   ],
   "source": [
    "# Obtener el directorio actual de trabajo\n",
    "current_dir = os.getcwd()\n",
    "\n",
    "# Subir un nivel desde notebooks para llegar a la carpeta raíz del proyecto\n",
    "project_root = os.path.dirname(current_dir)\n",
    "\n",
    "# Construir la ruta para guardar las métricas\n",
    "output_path = os.path.join(project_root, 'data', 'best_model_metrics.json')\n",
    "\n",
    "# Asegúrate de que la carpeta 'data' exista\n",
    "os.makedirs(os.path.dirname(output_path), exist_ok=True)\n",
    "\n",
    "# Seleccionar el mejor modelo basado en F1-Score\n",
    "mejor_modelo_metrics = resultados_df.iloc[0]\n",
    "\n",
    "# Crear un diccionario con las métricas relevantes\n",
    "best_model_metrics = {\n",
    "    \"modelo\": mejor_modelo_metrics[\"Modelo\"],\n",
    "    \"precision\": mejor_modelo_metrics[\"Precisión\"],\n",
    "    \"recall\": mejor_modelo_metrics[\"Recall\"],\n",
    "    \"f1_score\": mejor_modelo_metrics[\"F1-Score\"],\n",
    "    \"auc\": mejor_modelo_metrics[\"AUC\"],\n",
    "    \"exactitud\": mejor_modelo_metrics[\"Exactitud\"]\n",
    "}\n",
    "\n",
    "# Guardar las métricas en un archivo JSON\n",
    "with open(output_path, \"w\") as f:\n",
    "    json.dump(best_model_metrics, f, indent=4)\n",
    "\n",
    "print(f\"Métricas del mejor modelo guardadas en: {output_path}\")\n"
   ]
  },
  {
   "cell_type": "code",
   "execution_count": 80,
   "metadata": {},
   "outputs": [
    {
     "name": "stdout",
     "output_type": "stream",
     "text": [
      "Mejor modelo: K-Nearest Neighbors\n",
      "El mejor modelo se ha guardado como 'best_model.joblib'\n"
     ]
    }
   ],
   "source": [
    "# Identificar el mejor modelo\n",
    "mejor_modelo_nombre = resultados_df.iloc[0][\"Modelo\"]\n",
    "print(f\"Mejor modelo: {mejor_modelo_nombre}\")\n",
    "\n",
    "\n",
    "# Recuperar el mejor modelo\n",
    "mejor_modelo_idx = next(i for i, d in enumerate(resultados) if d[\"Modelo\"] == mejor_modelo_nombre)\n",
    "mejor_modelo = modelos[mejor_modelo_nombre]\n",
    "\n",
    "# Entrenar nuevamente con el mejor modelo y sus hiperparámetros óptimos\n",
    "mejores_params = resultados[mejor_modelo_idx][\"Mejores Hiperparámetros\"]\n",
    "mejor_modelo.set_params(**mejores_params)\n",
    "mejor_modelo.fit(X_train, y_train)\n",
    "\n",
    "# Guardar el modelo entrenado\n",
    "joblib.dump(mejor_modelo, \"best_model.joblib\")\n",
    "print(\"El mejor modelo se ha guardado como 'best_model.joblib'\")\n",
    "\n",
    "# Para usar el modelo guardado en cualquier otra parte del proyecto, puedes cargarlo con:\n",
    "# Cargar el modelo guardado\n",
    "#mejor_modelo = joblib.load(\"mejor_modelo.joblib\")\n",
    "\n",
    "# Hacer predicciones con el modelo\n",
    "#y_pred = mejor_modelo.predict(nuevos_datos)\n"
   ]
  },
  {
   "cell_type": "markdown",
   "metadata": {},
   "source": [
    "# Referencias"
   ]
  },
  {
   "cell_type": "markdown",
   "metadata": {},
   "source": [
    "Lopez-Rojas, Edgar Alonso ; Axelsson, Stefan\n",
    "\n",
    "Banksim: A bank payments simulator for fraud detection research Inproceedings\n",
    "\n",
    "26th European Modeling and Simulation Symposium, EMSS 2014, Bordeaux, France, pp. 144–152, Dime University of Genoa, 2014, ISBN: 9788897999324.\n",
    "\n",
    "https://www.researchgate.net/publication/265736405_BankSim_A_Bank_Payment_Simulation_for_Fraud_Detection_Research"
   ]
  }
 ],
 "metadata": {
  "kernelspec": {
   "display_name": "base",
   "language": "python",
   "name": "python3"
  },
  "language_info": {
   "codemirror_mode": {
    "name": "ipython",
    "version": 3
   },
   "file_extension": ".py",
   "mimetype": "text/x-python",
   "name": "python",
   "nbconvert_exporter": "python",
   "pygments_lexer": "ipython3",
   "version": "3.11.5"
  }
 },
 "nbformat": 4,
 "nbformat_minor": 2
}
